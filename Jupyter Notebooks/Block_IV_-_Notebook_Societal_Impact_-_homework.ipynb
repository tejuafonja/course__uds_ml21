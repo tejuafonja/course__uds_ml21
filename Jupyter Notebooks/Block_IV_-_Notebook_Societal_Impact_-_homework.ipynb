{
 "cells": [
  {
   "cell_type": "code",
   "execution_count": 1,
   "id": "fe3b3d0c",
   "metadata": {},
   "outputs": [],
   "source": [
    "import numpy as np\n",
    "import matplotlib.pyplot as plt\n",
    "%matplotlib inline\n",
    "\n",
    "import warnings\n",
    "warnings.filterwarnings('ignore')\n",
    "from load_compas_data import *\n",
    "%load_ext autoreload\n",
    "%autoreload 2\n",
    "\n",
    "\n",
    "import math\n",
    "import numpy as np\n",
    "import matplotlib.pyplot as plt # for plotting stuff\n",
    "from random import seed, shuffle\n",
    "from scipy.stats import multivariate_normal # generating synthetic data\n",
    "import pandas as pd\n",
    "from sklearn.svm import SVC, LinearSVC\n",
    "from sklearn.linear_model import LogisticRegression\n"
   ]
  },
  {
   "cell_type": "markdown",
   "id": "8cad2933",
   "metadata": {},
   "source": [
    "# Societal Impact (Fairness) - Tutorial - 24.06.2021\n",
    "## Overview\n",
    "\n",
    "Hello! This is a practical tutorial. In this notebook, we are going to explore machine learning for societal impact hands-on.  We specifically conentrate on fairness in machine learning. We have left a few `#TODO` where implementation is missing. Take a look and try to implement it yourself! We will illustrate the implementation at the tutorial on Thursday. See you there!\n",
    "\n",
    "The main goals of this notebook are:\n",
    "\n",
    "- Learn different techniques on to evaluate fairness\n",
    "- Explore how different fairness constraints affect different classifiers affect decision boundaries\n",
    "- Explore the accuracy-fairness trade-off\n",
    "\n",
    "This notebook has taken from / was inspired in parts by code available from the probabilistic learning group [here](https://github.com/probabilistic-learning/LvivSummerSchool19/tree/master/Code) of Prof. Isabel Valera."
   ]
  },
  {
   "cell_type": "markdown",
   "id": "928b512e",
   "metadata": {},
   "source": [
    "## Installation and Download\n",
    "For this notebook, we are using two new packages. If you have not yet installed them, you can do it e.g. via conda `conda install -c pytorch pytorch` and `conda install -c conda-forge texttable`."
   ]
  },
  {
   "cell_type": "code",
   "execution_count": 2,
   "id": "a56fb976",
   "metadata": {},
   "outputs": [],
   "source": [
    "import torch\n",
    "import texttable as tt"
   ]
  },
  {
   "cell_type": "markdown",
   "id": "4d294a59",
   "metadata": {},
   "source": [
    "For this notebook, we will also need the python file `load_compas_data.py`, which we have provided. Please download it and place it in the same folder as this notebook. "
   ]
  },
  {
   "cell_type": "markdown",
   "id": "bbcd619d",
   "metadata": {},
   "source": [
    "## Datasets\n",
    "We consider a synthetic biased dataset dataset with a multivariate normal distribution. It has two nonsensitive attributes and one sensitive attribute. The dataset and its generation function is taken from  Muhammad Bilal Zafar et al. [here](https://github.com/mbilalzafar/fair-classification). Green color denotes the positive class (e.g. creditworthy), red denotes negative (e.g. not credit worthy). Circles represent the non-protected group (e.g. males) while crosses represent the protected group (e.g. females). \n",
    "- What do you observe with respect to the correlation between class labels (green and red) and the sensitive feature values (protected and non-protected)? "
   ]
  },
  {
   "cell_type": "code",
   "execution_count": 3,
   "id": "903e0ed4",
   "metadata": {},
   "outputs": [],
   "source": [
    "def generate_synthetic_data(n_samples, plot_data=False):\n",
    "\n",
    "    \"\"\"\n",
    "        From: https://github.com/mbilalzafar/fair-classification\n",
    "        Code for generating the synthetic data.\n",
    "        We will have two non-sensitive features and one sensitive feature.\n",
    "        A sensitive feature value of 0.0 means the example is considered to be in protected group (e.g., female) \n",
    "        and 1.0 means it's in non-protected group (e.g., male).\n",
    "    \"\"\"\n",
    "\n",
    "    disc_factor = math.pi / 4.0 # this variable determines the initial discrimination in the data -- decraese it to generate more discrimination\n",
    "\n",
    "    def gen_gaussian(mean_in, cov_in, class_label):\n",
    "        nv = multivariate_normal(mean = mean_in, cov = cov_in)\n",
    "        X = nv.rvs(n_samples)\n",
    "        y = np.ones(n_samples, dtype=float) * class_label\n",
    "        return nv,X,y\n",
    "\n",
    "    \"\"\" Generate the non-sensitive features randomly \"\"\"\n",
    "    # We will generate one gaussian cluster for each class\n",
    "    mu1, sigma1 = [2, 2], [[5, 1], [1, 5]]\n",
    "    mu2, sigma2 = [-2,-2], [[10, 1], [1, 3]]\n",
    "    nv1, X1, y1 = gen_gaussian(mu1, sigma1, 1) # positive class\n",
    "    nv2, X2, y2 = gen_gaussian(mu2, sigma2, -1) # negative class\n",
    "\n",
    "    # join the posisitve and negative class clusters\n",
    "    X = np.vstack((X1, X2))\n",
    "    y = np.hstack((y1, y2))\n",
    "\n",
    "    # shuffle the data\n",
    "    perm = list(range(0,n_samples*2))\n",
    "    shuffle(perm)\n",
    "    X = X[perm]\n",
    "    y = y[perm]\n",
    "    \n",
    "    rotation_mult = np.array([[math.cos(disc_factor), -math.sin(disc_factor)], [math.sin(disc_factor), math.cos(disc_factor)]])\n",
    "    X_aux = np.dot(X, rotation_mult)\n",
    "\n",
    "\n",
    "    \"\"\" Generate the sensitive feature here \"\"\"\n",
    "    x_control = [] # this array holds the sensitive feature value\n",
    "    for i in range (0, len(X)):\n",
    "        x = X_aux[i]\n",
    "\n",
    "        # probability for each cluster that the point belongs to it\n",
    "        p1 = nv1.pdf(x)\n",
    "        p2 = nv2.pdf(x)\n",
    "        \n",
    "        # normalize the probabilities from 0 to 1\n",
    "        s = p1+p2\n",
    "        p1 = p1/s\n",
    "        p2 = p2/s\n",
    "        \n",
    "        r = np.random.uniform() # generate a random number from 0 to 1\n",
    "\n",
    "        if r < p1: # the first cluster is the positive class\n",
    "            x_control.append(1.0) # 1.0 means its male\n",
    "        else:\n",
    "            x_control.append(0.0) # 0.0 -> female\n",
    "\n",
    "    x_control = np.array(x_control)\n",
    "\n",
    "    \"\"\" Show the data \"\"\"\n",
    "    if plot_data:\n",
    "        num_to_draw = 200 # we will only draw a small number of points to avoid clutter\n",
    "        x_draw = X[:num_to_draw]\n",
    "        y_draw = y[:num_to_draw]\n",
    "        x_control_draw = x_control[:num_to_draw]\n",
    "\n",
    "        X_s_0 = x_draw[x_control_draw == 0.0]\n",
    "        X_s_1 = x_draw[x_control_draw == 1.0]\n",
    "        y_s_0 = y_draw[x_control_draw == 0.0]\n",
    "        y_s_1 = y_draw[x_control_draw == 1.0]\n",
    "        plt.scatter(X_s_0[y_s_0==1.0][:, 0], X_s_0[y_s_0==1.0][:, 1], color='green', marker='x', s=30, linewidth=1.5, label= \"Prot. +ve\")\n",
    "        plt.scatter(X_s_0[y_s_0==-1.0][:, 0], X_s_0[y_s_0==-1.0][:, 1], color='red', marker='x', s=30, linewidth=1.5, label = \"Prot. -ve\")\n",
    "        plt.scatter(X_s_1[y_s_1==1.0][:, 0], X_s_1[y_s_1==1.0][:, 1], color='green', marker='o', facecolors='none', s=30, label = \"Non-prot. +ve\")\n",
    "        plt.scatter(X_s_1[y_s_1==-1.0][:, 0], X_s_1[y_s_1==-1.0][:, 1], color='red', marker='o', facecolors='none', s=30, label = \"Non-prot. -ve\")\n",
    "\n",
    "        \n",
    "        plt.tick_params(axis='x', which='both', bottom='off', top='off', labelbottom='off') # dont need the ticks to see the data distribution\n",
    "        plt.tick_params(axis='y', which='both', left='off', right='off', labelleft='off')\n",
    "        plt.legend(loc=2, fontsize=15)\n",
    "        plt.xlim((-15,10))\n",
    "        plt.ylim((-10,15))\n",
    "        plt.show()\n",
    "\n",
    "    #x_control = {\"s1\": x_control} # all the sensitive features are stored in a dictionary\n",
    "    X = np.concatenate((X,x_control.reshape(-1,1)), axis=1)\n",
    "    data = np.concatenate((X,y.reshape(-1,1)),axis = 1)\n",
    "    return pd.DataFrame(data=data, columns = [\"x1\",\"x2\",\"sensitive\",\"y\"]), X, y\n",
    "\n",
    "def plot_data(X,y,X_sens,axes=None):\n",
    "    if axes is None:\n",
    "        axes = plt.gca()\n",
    "    num_to_draw = 200 # we will only draw a small number of points to avoid clutter\n",
    "    x_draw = X[:num_to_draw]\n",
    "    y_draw = y[:num_to_draw]\n",
    "    x_control_draw = X_sens[:num_to_draw]\n",
    "\n",
    "    X_s_0 = x_draw[x_control_draw == 0.0]\n",
    "    X_s_1 = x_draw[x_control_draw == 1.0]\n",
    "    y_s_0 = y_draw[x_control_draw == 0.0]\n",
    "    y_s_1 = y_draw[x_control_draw == 1.0]\n",
    "    axes.scatter(X_s_0[y_s_0==1.0][:, 0], X_s_0[y_s_0==1.0][:, 1], color='green', marker='x', s=30, linewidth=1.5, label= \"Prot. +ve\")\n",
    "    axes.scatter(X_s_0[y_s_0==-1.0][:, 0], X_s_0[y_s_0==-1.0][:, 1], color='red', marker='x', s=30, linewidth=1.5, label = \"Prot. -ve\")\n",
    "    axes.scatter(X_s_1[y_s_1==1.0][:, 0], X_s_1[y_s_1==1.0][:, 1], color='green', marker='o', facecolors='none', s=30, label = \"Non-prot. +ve\")\n",
    "    axes.scatter(X_s_1[y_s_1==-1.0][:, 0], X_s_1[y_s_1==-1.0][:, 1], color='red', marker='o', facecolors='none', s=30, label = \"Non-prot. -ve\")\n",
    "\n",
    "    axes.tick_params(axis='x', which='both', bottom='off', top='off', labelbottom='off') # dont need the ticks to see the data distribution\n",
    "    axes.tick_params(axis='y', which='both', left='off', right='off', labelleft='off')\n",
    "    axes.legend(loc=2, fontsize=15)\n",
    "    axes.set_xlim((-15,10))\n",
    "    axes.set_ylim((-10,15))"
   ]
  },
  {
   "cell_type": "code",
   "execution_count": 4,
   "id": "6d5c858d",
   "metadata": {},
   "outputs": [
    {
     "data": {
      "image/png": "[encoded data removed]",
      "text/plain": [
       "<Figure size 432x288 with 1 Axes>"
      ]
     },
     "metadata": {
      "needs_background": "light"
     },
     "output_type": "display_data"
    },
    {
     "data": {
      "image/png": "[encoded data removed]",
      "text/plain": [
       "<Figure size 432x288 with 1 Axes>"
      ]
     },
     "metadata": {
      "needs_background": "light"
     },
     "output_type": "display_data"
    }
   ],
   "source": [
    "# Plotting training and test data\n",
    "train_data, X_train, y_train = generate_synthetic_data(2000,True)\n",
    "test_data, X_test, y_test= generate_synthetic_data(500,True)"
   ]
  },
  {
   "cell_type": "markdown",
   "id": "211f469e",
   "metadata": {},
   "source": [
    "## How to\n",
    "Throughout this notebook we will be analyzing classifiers with different notions of fairness by computing the test error of the classifier(s), computing different fairness metrics, outputting the confusion matrix and plotting the classification boundary. Lets start with looking at the functions that perfom this:\n",
    "-  H.1) Define a function `test_error` to compute the test error of a classifier. Use as input the ground truth (correct) labels `y_true` and labels as predicted by the classifier `y_pred`. \n"
   ]
  },
  {
   "cell_type": "code",
   "execution_count": 5,
   "id": "4b4e39c7",
   "metadata": {},
   "outputs": [],
   "source": [
    "def test_error(y_pred,y_true):\n",
    "    if isinstance(y_pred, torch.Tensor):\n",
    "        y_pred = y_pred.numpy()\n",
    "        y_true = y_true.numpy()\n",
    "    return #TODO"
   ]
  },
  {
   "cell_type": "markdown",
   "id": "abf1a5d0",
   "metadata": {},
   "source": [
    "We  now take a look at some common group fairness metrics: *demographic parity* and *equal opportunity*, which is a weaker version of *equalized odds*. Note, for simplicity, we assume throughout binary targets $Y$, $\\widehat{Y}$ and protected attributes $A$. \n",
    "\n",
    "- *Statistical Parity* ([Dwork et al. (2011)](https://dl.acm.org/doi/pdf/10.1145/2090236.2090255)): A binary predictor $\\hat{Y}$ satisfies equal opportunity with respect to $A$ and $Y$ if $$\\operatorname{Pr}\\{\\widehat{Y}=1 \\mid A=0\\}=\\operatorname{Pr}\\{\\widehat{Y}=1 \\mid A=1\\}.$$ \n",
    "\n",
    "\n",
    "- *Equalized Odds* ([Hardt et al. (2016)](https://arxiv.org/pdf/1610.02413.pdf)): A binary predictor $\\widehat{Y}$ satisfies equalized odds with respect to protected attribute $A$ and outcome $Y$, if $\\widehat{Y}$ and $A$ are independent conditional on $Y$. This can be expressed as:\n",
    "$$ \\begin{equation}\n",
    "\\operatorname{Pr}\\{\\widehat{Y}=1 \\mid A=0, Y=y\\}=\\operatorname{Pr}\\{\\widehat{Y}=1 \\mid A=1, Y=y\\}, \\quad y \\in\\{0,1\\}\n",
    "\\end{equation}$$\n",
    "\n",
    "\n",
    "- *Equal Opportunity* ([Hardt et al. (2016)](https://arxiv.org/pdf/1610.02413.pdf)): A binary predictor $\\hat{Y}$ satisfies equal opportunity with respect to $A$ and $Y$ if $$\\operatorname{Pr}\\{\\widehat{Y}=1 \\mid A=0, Y=1\\}=\\operatorname{Pr}\\{\\widehat{Y}=1 \\mid A=1, Y=1\\}.$$ \n",
    "\n",
    "Lets now put this into code. Note, whenever we refer to *fairness metrics* in the following, we will refer to *statistical parity* and *equal opportunity*:\n",
    "- H.2) Define a function `statistical_parity`, that helps to compute *statistical parity* in the binary case. The function should compute $\\operatorname{Pr}\\{\\widehat{Y}=1 \\mid A=a\\}$, given predictions $\\widehat{Y}$ for group $a$. "
   ]
  },
  {
   "cell_type": "code",
   "execution_count": 6,
   "id": "33c259ec",
   "metadata": {},
   "outputs": [],
   "source": [
    "def statistical_parity(y, mask):\n",
    "    # mask allows to select members of one group\n",
    "    if isinstance(mask, np.ndarray):\n",
    "        mask = torch.tensor(mask)\n",
    "     #TODO  # conditioned elements\n",
    "    return  #TODO"
   ]
  },
  {
   "cell_type": "markdown",
   "id": "2ac1ee4e",
   "metadata": {},
   "source": [
    "- H.3) Define a function `equal_opportunity`, that helps to compute *equal opportunity* in the binary case. The function should computes $\\operatorname{Pr}\\{\\widehat{Y}=1 \\mid A=a, Y=1\\}$, given predictions $\\widehat{Y}$, for a ground truth label $y$ and group $a$. "
   ]
  },
  {
   "cell_type": "code",
   "execution_count": 7,
   "id": "c4a404ca",
   "metadata": {},
   "outputs": [],
   "source": [
    "def equal_opportunity(y_pred, y, mask):\n",
    "    # mask allows to select members of one group\n",
    "    if isinstance(mask, np.ndarray):\n",
    "        mask = torch.tensor(mask)\n",
    "     #TODO # conditioned true positives\n",
    "    return  #TODO"
   ]
  },
  {
   "cell_type": "markdown",
   "id": "71989464",
   "metadata": {},
   "source": [
    "- H.4) Define a function called `confusion_matrix` that prints the confusion matrix given predicted labels `y_pred`, true lables `y_true` and optionally a mask that allows to select a subgroup of samples (e.g. only those with a protected sensitive attribute)."
   ]
  },
  {
   "cell_type": "code",
   "execution_count": null,
   "id": "636739c1",
   "metadata": {},
   "outputs": [],
   "source": [
    "def confusion_matrix(y_pred, y_true, mask=None):\n",
    "    y_pred = torch.tensor(y_pred)\n",
    "    y_true = torch.tensor(y_true)\n",
    "    size = y_true.size(0) if mask is None else mask.sum().item()\n",
    "    sum_and_int = lambda x: x.sum().long().item()\n",
    "    to_percentage = lambda l: [f'{float(y)* 100. / size :.2f}%' for y in l]\n",
    "    \n",
    "    y_pred_binary = (y_pred > 0.5).float()\n",
    "    if mask is None:\n",
    "        mask = torch.ones_like(y_pred)\n",
    "    if isinstance(mask, np.ndarray):\n",
    "        mask = torch.tensor(mask)\n",
    "    mask = mask.float()\n",
    "    \n",
    "    true_positives =  #TODO\n",
    "    false_positives =  #TODO\n",
    "    \n",
    "    true_negatives =  #TODO\n",
    "    false_negatives =  #TODO\n",
    "    \n",
    "    total_positives =  #TODO\n",
    "    total_negatives =  #TODO\n",
    "    total =  #TODO\n",
    "    \n",
    "    # Show the confusion matrix\n",
    "    table = tt.Texttable()\n",
    "    table.header(['Pred/Real', 'Positive', 'Negative', ''])\n",
    "    table.add_row(['Positive'] + to_percentage([true_positives, false_positives, true_positives + false_positives]))\n",
    "    table.add_row(['Negative'] + to_percentage([false_negatives, true_negatives, false_negatives + true_negatives]))\n",
    "    table.add_row([''] + to_percentage([total_positives, total_negatives, total]))\n",
    "    \n",
    "    return table"
   ]
  },
  {
   "cell_type": "markdown",
   "id": "c963ecca",
   "metadata": {},
   "source": [
    "- H.5) Define a function called `plot_svc_boundary` that helps to plot the decision boundary of an SVC classifier (like in the last tutorial) and a function called `get_lr_boundary` that helps to plot the decision boundary of a LR classifier in the 2D space (i.e. to draw the decision boundary in your data plot above)."
   ]
  },
  {
   "cell_type": "code",
   "execution_count": null,
   "id": "34816a1f",
   "metadata": {},
   "outputs": [],
   "source": [
    "# return decision boundary for SVC\n",
    "def get_svc_boundary(w,b,x1,x2):\n",
    "    w1, w2 = w\n",
    "    y1 = #TODO\n",
    "    y2 = #TODO\n",
    "    return [[x1,x2],[y1,y2]]\n",
    "\n",
    "# return decision boundary for LR\n",
    "def get_lr_boundary(coef, intercept, x1, x2):\n",
    "      w1, w2 = coef\n",
    "      y1 = #TODO\n",
    "      y2 = #TODO\n",
    "      return [[x1,x2],[y1,y2]]\n"
   ]
  },
  {
   "cell_type": "markdown",
   "id": "462f55b4",
   "metadata": {},
   "source": [
    "- H.6) We define a function called `get_statistics` that plots the test error of a model, the confusion matrix for both groups combined as well as for each group separately and outputs both fairness metrics."
   ]
  },
  {
   "cell_type": "code",
   "execution_count": null,
   "id": "e403f573",
   "metadata": {},
   "outputs": [],
   "source": [
    "tensor = lambda x: torch.tensor(x.to_numpy())\n",
    "def get_statistics(model, X_test, y_test, pred, mask):\n",
    "    print(\"Test error: \", test_error(pred,y_test))\n",
    "    print(confusion_matrix(pred,y_test).draw())\n",
    "    print(confusion_matrix(pred,y_test,mask).draw())\n",
    "    print(confusion_matrix(pred,y_test,1-mask).draw())\n",
    "    pred = torch.tensor(pred)\n",
    "    y_test = torch.tensor(y_test)\n",
    "    print(\"statistical_parity for 1: %.3f, for 0: %.3f, total: %.3f\" % (statistical_parity(pred,mask),statistical_parity(pred,1-mask), statistical_parity(pred,mask)-statistical_parity(pred,1-mask)))\n",
    "    print(\"equal_opportunity for 1: %.3f, for 0: %.3f, total: %.3f\" % (equal_opportunity(pred, y_test,mask),equal_opportunity(pred, y_test,1-mask), equal_opportunity(pred, y_test,mask) - equal_opportunity(pred, y_test,1-mask)))"
   ]
  },
  {
   "cell_type": "markdown",
   "id": "0638e75e",
   "metadata": {},
   "source": [
    "# 1. Plain classifier\n",
    "We start with looking how a standard SVM and LR sepearte the given biased dataset.\n",
    "- Train both a Support Vector Classifier (SVC) and a linear regression (LR) classifier on the full dataset. You can use a standard implementation from [here](https://scikit-learn.org/stable/modules/generated/sklearn.svm.SVC.html) and [here](https://scikit-learn.org/stable/modules/generated/sklearn.linear_model.LogisticRegression.html), respectively. Evaluate test error, fairness metrics and the confusion matrix for i) all samples, ii) only samples of unprotected group and iii) only samples of protected group. Plot the decision boundary. What do you observe?"
   ]
  },
  {
   "cell_type": "code",
   "execution_count": null,
   "id": "7ae25248",
   "metadata": {},
   "outputs": [],
   "source": [
    "# select plain dataset trainig and test\n",
    "_X_train = train_data[[\"x1\",\"x2\",\"sensitive\"]].to_numpy()\n",
    "_y_train = train_data[\"y\"].to_numpy()\n",
    "_X_test = test_data[[\"x1\",\"x2\",\"sensitive\"]].to_numpy()\n",
    "_y_test = test_data[\"y\"].to_numpy()\n",
    "s_test = test_data[\"sensitive\"].to_numpy()"
   ]
  },
  {
   "cell_type": "code",
   "execution_count": null,
   "id": "4e66b38b",
   "metadata": {},
   "outputs": [],
   "source": [
    "# define and fit SVC\n",
    "svc = SVC(kernel='linear',C=1000)\n",
    "svc.fit(_X_train,_y_train)\n",
    "\n",
    "# get predictions from SVC\n",
    "y_pred = svc.predict(_X_test)\n",
    "\n",
    "# get statistics from predictions\n",
    "get_statistics(svc, _X_test, (y_test+1)/2 , (y_pred+1)/2 ,s_test)"
   ]
  },
  {
   "cell_type": "code",
   "execution_count": null,
   "id": "199dadce",
   "metadata": {},
   "outputs": [],
   "source": [
    "# Plot data and decision boundary\n",
    "fig,ax = plt.subplots(1,1)\n",
    "ax.plot(*get_svc_boundary(svc.coef_[0][0:2], svc.intercept_, -15,10), color=\"black\", label= \"A\")\n",
    "plot_data(X_test[:,0:2],y_test,s_test,axes=ax)"
   ]
  },
  {
   "cell_type": "code",
   "execution_count": null,
   "id": "6f7b7b04",
   "metadata": {},
   "outputs": [],
   "source": [
    "# define and train Logistic Regression classifier\n",
    "#TODO\n",
    "\n",
    "# get predictions \n",
    "#TODO\n",
    "\n",
    "# get statistics\n",
    "#TODO"
   ]
  },
  {
   "cell_type": "code",
   "execution_count": null,
   "id": "7f810a06",
   "metadata": {},
   "outputs": [],
   "source": [
    "# plot data and decision boundary\n",
    "fig,ax = plt.subplots(1,1)\n",
    "ax.plot(*get_lr_boundary(lr.coef_[0][0:2], lr.intercept_, -15,10), color=\"black\", label= \"A\")\n",
    "plot_data(X_test[:,0:2],y_test,s_test,axes=ax)"
   ]
  },
  {
   "cell_type": "markdown",
   "id": "8d5e6389",
   "metadata": {},
   "source": [
    "# 2. Unaware classifier\n",
    "Can't we just train a fair classifier by removing the sensitive attribute from our dataset? \n",
    "- Modify the dataset such that contains only non-sensitive features. Train both the SVM and LR classifier on it.  Evaluate test error, fairness metrics and the confusion matrix for i) all samples, ii) only samples of unprotected group and iii) only samples of protected group. Plot the decision boundary. What do you observe? "
   ]
  },
  {
   "cell_type": "code",
   "execution_count": null,
   "id": "3f0ce838",
   "metadata": {},
   "outputs": [],
   "source": [
    "# select plain dataset trainig and test\n",
    "#TODO"
   ]
  },
  {
   "cell_type": "code",
   "execution_count": null,
   "id": "c5488d71",
   "metadata": {},
   "outputs": [],
   "source": [
    "# define and fit SVC\n",
    "#TODO\n",
    "\n",
    "# get predictions from SVC\n",
    "#TODO\n",
    "\n",
    "# get statistics from predictions\n",
    "#TODO"
   ]
  },
  {
   "cell_type": "code",
   "execution_count": null,
   "id": "9daf5836",
   "metadata": {},
   "outputs": [],
   "source": [
    "# Plot data and decision boundary\n",
    "#TODO"
   ]
  },
  {
   "cell_type": "code",
   "execution_count": null,
   "id": "06dfdcdc",
   "metadata": {},
   "outputs": [],
   "source": [
    "# define and train Logistic Regression classifier\n",
    "#TODO\n",
    "\n",
    "# get predictions \n",
    "#TODO\n",
    "\n",
    "# get statistics\n",
    "#TODO"
   ]
  },
  {
   "cell_type": "code",
   "execution_count": null,
   "id": "1edd729d",
   "metadata": {},
   "outputs": [],
   "source": [
    "# plot\n",
    "#TODO"
   ]
  },
  {
   "cell_type": "markdown",
   "id": "e3711acb",
   "metadata": {},
   "source": [
    "# Mechanisms to achive group fairness\n",
    "In the lecture, we learned that there are three main approaches to achieveing group fairness: \n",
    "- pre-preprocessing, which modifies the input data to remove (potential) bias\n",
    "- post-processing, which modifies the decisions of a (potentially) unfair classifier\n",
    "- in-processing, which modifies training to directly learn a fair classifier\n",
    "\n",
    "<!-- ![alt text](methods.png \"Methods to achieve group fairness\") -->\n",
    "\n",
    "Lets now take a closer look at one way of altering the training of a classification algorithm to achieve higher levels of fairness (in-processing)."
   ]
  },
  {
   "cell_type": "markdown",
   "id": "9152b656",
   "metadata": {},
   "source": [
    "# 3. In-processing\n",
    "\n",
    "Let's now take a more detailed look at in-processing approaches for logistic regression e.g. [Zafar et al. (2017)](https://arxiv.org/pdf/1507.05259.pdf). We provide you with the training framework. "
   ]
  },
  {
   "cell_type": "markdown",
   "id": "02618b63",
   "metadata": {},
   "source": [
    "## Training Framework\n",
    "This is the pytorch training framework for a Logistic Regression (LR) classifier we provide you. In order to modify the optimization of the LR classifier we make all function explicit. "
   ]
  },
  {
   "cell_type": "code",
   "execution_count": null,
   "id": "b45463ef",
   "metadata": {},
   "outputs": [],
   "source": [
    "import torch.nn as nn\n",
    "class LogisticRegression(nn.Module):\n",
    "    def __init__(self, size):\n",
    "        super().__init__()\n",
    "        self.theta = nn.Parameter(torch.randn(size, 1))\n",
    "        self.bias = nn.Parameter(torch.randn(1))\n",
    "        \n",
    "    def forward(self, x):\n",
    "        return torch.sigmoid(torch.matmul(x, self.theta)+self.bias).flatten()\n",
    "    \n",
    "    def predict(self, x):\n",
    "        return self.forward(x) >= 0.5\n",
    "    \n",
    "@torch.no_grad()  # This is to let Pytorch modify our parameters\n",
    "def gradient_descent(model, learning_rate):\n",
    "    model.theta -= learning_rate * model.theta.grad\n",
    "    model.bias -= learning_rate * model.bias.grad\n",
    "\n",
    "def train(model, loss_function, x, y, epochs, learning_rate, print_freq=100, verbose=True, **kwargs):\n",
    "    for i in range(epochs):\n",
    "        model.zero_grad()  # sets all the gradients back to 0\n",
    "    \n",
    "        y_pred = model(x)\n",
    "        loss = loss_function(y_pred, y, **kwargs)\n",
    "        if (i == 0 or (i+1) % print_freq == 0)  and verbose:\n",
    "            print(f'Epoch {i+1}: loss {loss.item()}')\n",
    "            \n",
    "        loss.backward()  # calculates the gradient of all the parameters\n",
    "        gradient_descent(model, learning_rate)"
   ]
  },
  {
   "cell_type": "code",
   "execution_count": null,
   "id": "bd27687d",
   "metadata": {},
   "outputs": [],
   "source": [
    "# get training and test datasets as pytorch tensors\n",
    "X_train_tensor = torch.tensor(X_train).float()\n",
    "y_train_tensor = (torch.tensor(y_train).float()+1)/2\n",
    "X_test_tensor = torch.tensor(X_test).float()\n",
    "y_test_tensor = (torch.tensor(y_test).float()+1)/2\n",
    "s_train=X_train_tensor[:,2]\n",
    "s_test = test_data[\"sensitive\"].to_numpy()"
   ]
  },
  {
   "cell_type": "markdown",
   "id": "0da5eb20",
   "metadata": {},
   "source": [
    "## Plain Classifier\n",
    "- 5.1) Lets begin with training a plain LR classifier using the framework. Use binary cross entropy as loss function, which you hand to the training function. Evaluate test error, fairness metrics and the confusion matrix for i) all samples, ii) only samples of unprotected group and iii) only samples of protected group. Plot the decision boundary."
   ]
  },
  {
   "cell_type": "code",
   "execution_count": null,
   "id": "355a7f26",
   "metadata": {
    "scrolled": true
   },
   "outputs": [],
   "source": [
    "# define the model\n",
    "my_model_me = LogisticRegression(X_train_tensor.size(1))\n",
    "# define the loss function\n",
    "my_loss_function = nn.functional.binary_cross_entropy  # cross entropy loss\n",
    "# train the model\n",
    "train(my_model_me, my_loss_function, X_train_tensor, y_train_tensor, epochs=1000, learning_rate=0.05)"
   ]
  },
  {
   "cell_type": "code",
   "execution_count": null,
   "id": "35b687b7",
   "metadata": {},
   "outputs": [],
   "source": [
    "# get model predictions\n",
    "y_pred_me =  my_model_me.predict(X_test_tensor)\n",
    "# get statistics\n",
    "get_statistics(my_model_me, X_test_tensor, y_test_tensor, y_pred_me, s_test)"
   ]
  },
  {
   "cell_type": "code",
   "execution_count": null,
   "id": "68ed3762",
   "metadata": {},
   "outputs": [],
   "source": [
    "# plot decision boundary\n",
    "fig,ax = plt.subplots(1,1)\n",
    "ax.plot(*get_lr_boundary(my_model_me.theta.detach().numpy()[0:2], my_model_me.bias.detach().numpy()[0], -15,10), color=\"black\", label= \"A\")\n",
    "plot_data(X_test[:,0:2],y_test,X_test[:,2],axes=ax)"
   ]
  },
  {
   "cell_type": "markdown",
   "id": "60967ead",
   "metadata": {},
   "source": [
    "## Fair Classifier - Statistical Parity\n",
    "- 5.2) Train the LR classifier with the fairness metric `statistical_parity`.  This is a constrained optimization problem and you can use an lagrange approach , i.e. `bce_loss + lambda * (unfairness)^2`. Alter the loss function in a suitable way. Then train and evaluate. You can use $\\lambda = 100$. What do you observe?\n",
    "\n",
    "In all cases: "
   ]
  },
  {
   "cell_type": "code",
   "execution_count": null,
   "id": "5603c47d",
   "metadata": {},
   "outputs": [],
   "source": [
    "# define statistical parity loss\n",
    "def sp_loss(y_pred, y, X_sens, lambda_ = 100.0):\n",
    "    \n",
    "    bce_loss = nn.functional.binary_cross_entropy(y_pred, y)\n",
    "    \n",
    "    #TODO\n",
    "    \n",
    "    return #TODO"
   ]
  },
  {
   "cell_type": "code",
   "execution_count": null,
   "id": "38d12d24",
   "metadata": {},
   "outputs": [],
   "source": [
    "# define model\n",
    "my_model_sp = LogisticRegression(X_train_tensor.size(1))\n",
    "\n",
    "# define loss function \n",
    "my_loss_function = sp_loss\n",
    "\n",
    "# train model\n",
    "train(my_model_sp, my_loss_function, X_train_tensor, y_train_tensor, X_sens=s_train, epochs=2000, learning_rate=0.05)"
   ]
  },
  {
   "cell_type": "code",
   "execution_count": null,
   "id": "54309068",
   "metadata": {},
   "outputs": [],
   "source": [
    "# get predictions\n",
    "y_pred_sp  = my_model_sp.predict(X_test_tensor)\n",
    "# get statistivs\n",
    "get_statistics(my_model_sp, X_test_tensor, y_test_tensor,y_pred_sp ,s_test)"
   ]
  },
  {
   "cell_type": "code",
   "execution_count": null,
   "id": "1d68a171",
   "metadata": {},
   "outputs": [],
   "source": [
    "# plot\n",
    "fig,ax = plt.subplots(1,1)\n",
    "ax.plot(*get_lr_boundary(my_model_sp.theta.detach().numpy()[0:2], my_model_sp.bias.detach().numpy()[0], -15,10), color=\"black\", label= \"A\")\n",
    "plot_data(X_test[:,0:2],y_test,X_test[:,2],axes=ax)"
   ]
  },
  {
   "cell_type": "markdown",
   "id": "55d688e2",
   "metadata": {},
   "source": [
    "## Fair Classifier - Equal Opportunity\n",
    "- 5.3)  Train the LR classifier with the fairness metric `equal_opportunity`. This is a constrained optimization problem and you can use an lagrange approach , i.e. `bce_loss + lambda * unfairness`. Alter the loss function in a suitable way. Then train and evaluate. You can use $\\lambda = 100$. What do you observe?"
   ]
  },
  {
   "cell_type": "code",
   "execution_count": null,
   "id": "673d89f9",
   "metadata": {},
   "outputs": [],
   "source": [
    "# define equal opportunity loss\n",
    "def eo_loss(y_pred, y, X_sens, lambda_ = 100):\n",
    "    bce_loss = nn.functional.binary_cross_entropy(y_pred, y)\n",
    "    \n",
    "    #TODO\n",
    "    \n",
    "    return # TODO"
   ]
  },
  {
   "cell_type": "code",
   "execution_count": null,
   "id": "eb0b84f0",
   "metadata": {},
   "outputs": [],
   "source": [
    "# define model\n",
    "# TODO\n",
    "\n",
    "# define loss function\n",
    "# TODO\n",
    "\n",
    "# train model\n",
    "# TODO"
   ]
  },
  {
   "cell_type": "code",
   "execution_count": null,
   "id": "d9ab8c26",
   "metadata": {},
   "outputs": [],
   "source": [
    "# get prediction\n",
    "# TODO\n",
    "\n",
    "# get statistics\n",
    "# TODO"
   ]
  },
  {
   "cell_type": "code",
   "execution_count": null,
   "id": "6a56937e",
   "metadata": {},
   "outputs": [],
   "source": [
    "# plot\n",
    "# TODO"
   ]
  },
  {
   "cell_type": "markdown",
   "id": "34cadd31",
   "metadata": {},
   "source": [
    "# 4. Fairness-Accuracy Tradeoff\n",
    "\n",
    "As introduced in the lecture, the *fairness-accuracy-tradeoff* describes that in general, higher fairness yields lower accuracy, because a fairness constraint diverts the objective from accuracy alone to both accuracy and fairness. Let's try to see that with our implementation. While optimizing for accuracy subject to fairness constraints in the Lagrange implementation above, we adjust the weight that the fairness objective has during training with $\\lambda$. While optimizing for accuracy subject to fairness constraints, the higher we choose $\\lambda$ the more weight the fairness constraint has in the optimization. For a very high $\\lambda$ this may result in a perfectly fair classifier but similarily a rather big loss in accuracy. Lets see if we try a range of values of $\\lambda$, what kind of accuracy we achieve. \n",
    "- 6.1) For $\\lambda = [0.01, 0.1, 0, 1, 10, 100, 1000]$ train a fair LR classifier with the fairness constraint `statistical_parity`. Use the function `get_accuracy_fairness` to evaluate accuracy and fairness metrics for the different values of $\\lambda$. What do you observe?"
   ]
  },
  {
   "cell_type": "code",
   "execution_count": 9,
   "id": "9fa8c188",
   "metadata": {},
   "outputs": [],
   "source": [
    "from functools import partial\n",
    "def get_accuracy_fairness(model, X_test, y_test, pred, mask):\n",
    "    err = # TODO\n",
    "    print(\"Test error: \", err)\n",
    "    y_test = torch.tensor(y_test)\n",
    "    sp_1,sp_0 = # TODO\n",
    "    eo_1,eo_0 = # TODO\n",
    "    print(\"statistical_parity for 1: %.3f, statistical_parity for 0: %.3f\" % (sp_1, sp_0))\n",
    "    print(\"equal_opportunity for 1: %.3f, equal_opportunity for 0: %.3f\" % (eo_1,eo_0))\n",
    "    return err, sp_1, sp_0, eo_1, eo_0"
   ]
  },
  {
   "cell_type": "code",
   "execution_count": null,
   "id": "db88cb4b",
   "metadata": {
    "scrolled": false
   },
   "outputs": [],
   "source": [
    "lambdas = [0,0.01,0.1,1,10,100,1000,10000]\n",
    "err_list, sp_1_list, sp_0_list, eo_1_list, eo_0_list = [],[],[],[],[] \n",
    "X_train_tensor = torch.tensor(X_train).float()\n",
    "y_train_tensor = (torch.tensor(y_train).float()+1)/2\n",
    "X_test_tensor = torch.tensor(X_test).float()\n",
    "y_test_tensor = (torch.tensor(y_test).float()+1)/2\n",
    "    \n",
    "for lambda_ in lambdas:\n",
    "\n",
    "    # define model\n",
    "    # TODO\n",
    "    \n",
    "    # define loss function - HINT: you can use partial\n",
    "    # TODO\n",
    "    \n",
    "    # train model \n",
    "    # TODO \n",
    "    \n",
    "    # get predictions\n",
    "    # TODO\n",
    "    \n",
    "    err, sp_1, sp_0, eo_1, eo_0 = get_accuracy_fairness(my_model_sp, X_test_tensor, y_test_tensor, y_pred ,s_test)\n",
    "    err_list.append(err)\n",
    "    sp_1_list.append(sp_1)\n",
    "    sp_0_list.append(sp_0)\n",
    "    eo_1_list.append(eo_1)\n",
    "    eo_0_list.append(eo_0)\n",
    "    print()"
   ]
  },
  {
   "cell_type": "code",
   "execution_count": null,
   "id": "c160c243",
   "metadata": {},
   "outputs": [],
   "source": [
    "fig, axes = plt.subplots(3,1, figsize=(15,15))\n",
    "axes[0].plot(err_list)\n",
    "axes[0].set_xticks(range(len(lambdas)))\n",
    "axes[0].set_xticklabels(lambdas)\n",
    "axes[0].set_ylabel(\"Error\")\n",
    "axes[0].set_xlabel(\"Lambda\")\n",
    "\n",
    "axes[1].plot(sp_1_list, label=\"1\")\n",
    "axes[1].plot(sp_0_list, label=\"0\")\n",
    "axes[1].set_xticks(range(len(lambdas)))\n",
    "axes[1].set_xticklabels(lambdas)\n",
    "axes[1].set_ylabel(\"Statistical Parity\")\n",
    "axes[1].set_xlabel(\"Lambda\")\n",
    "axes[1].legend()\n",
    "\n",
    "axes[2].plot(eo_1_list, label=\"1\")\n",
    "axes[2].plot(eo_0_list, label=\"0\")\n",
    "axes[2].set_xticks(range(len(lambdas)))\n",
    "axes[2].set_xticklabels(lambdas)\n",
    "axes[2].set_ylabel(\"Equal Opportunity\")\n",
    "axes[2].set_xlabel(\"Lambda\")\n",
    "axes[2].legend()"
   ]
  },
  {
   "cell_type": "markdown",
   "id": "0bca9267",
   "metadata": {},
   "source": [
    "- 6.2) For $\\lambda = [0.01, 0.1, 0, 1, 10, 100, 1000]$ train a fair LR classifier with the fairness constraint `equal_opportunity`. Use the provided function `plot_accuracy_fairness` to evaluate accuracy and fairness metrics for the different values of $\\lambda$. What do you observe? "
   ]
  },
  {
   "cell_type": "code",
   "execution_count": null,
   "id": "4466db2c",
   "metadata": {},
   "outputs": [],
   "source": [
    "# TODO - simimilar to above but with equal_opportunity"
   ]
  },
  {
   "cell_type": "code",
   "execution_count": null,
   "id": "85ae572d",
   "metadata": {},
   "outputs": [],
   "source": [
    "fig, axes = plt.subplots(3,1, figsize=(15,15))\n",
    "axes[0].plot(err_list)\n",
    "axes[0].set_xticks(range(len(lambdas)))\n",
    "axes[0].set_xticklabels(lambdas)\n",
    "axes[0].set_ylabel(\"Error\")\n",
    "axes[0].set_xlabel(\"Lambda\")\n",
    "\n",
    "axes[1].plot(sp_1_list, label=\"1\")\n",
    "axes[1].plot(sp_0_list, label=\"0\")\n",
    "axes[1].set_xticks(range(len(lambdas)))\n",
    "axes[1].set_xticklabels(lambdas)\n",
    "axes[1].set_ylabel(\"Statistical Parity\")\n",
    "axes[1].set_xlabel(\"Lambda\")\n",
    "axes[1].legend()\n",
    "\n",
    "axes[2].plot(eo_1_list, label=\"1\")\n",
    "axes[2].plot(eo_0_list, label=\"0\")\n",
    "axes[2].set_xticks(range(len(lambdas)))\n",
    "axes[2].set_xticklabels(lambdas)\n",
    "axes[2].set_ylabel(\"Equal Opportunity\")\n",
    "axes[2].set_xlabel(\"Lambda\")\n",
    "axes[2].legend()"
   ]
  },
  {
   "cell_type": "markdown",
   "id": "08fddccc",
   "metadata": {},
   "source": [
    "# 5. Real-world data\n",
    "So far we have been using synthetic data as it allowed us to plot data and decision boundaries to get an intuition of what classification under different fairness notions can look like. Fairness plays an important role the moment we use an algorithm in the real world. Therefore, lets take a look at real world data. \n"
   ]
  },
  {
   "cell_type": "markdown",
   "id": "1e776fda",
   "metadata": {},
   "source": [
    "## Compas Data\n",
    "In 2016 ProPublica, an independent, nonprofit organization of investigative journalists, reported that an algorithm, which was used in the US legal system to predict a criminal defendant’s likelihood to re-offend, was racially biased. The algorithm referred to as COMPAS, which stands for Correctional Offender Management Profiling for Alternative Sanctions, is offered by the vendor Northpointe, Inc. ProPublica showed that black defendants were far more likely than white defendants to be incorrectly predicted to be at a higher risk of recidivism, while white defendants were more likely than black defendants to be incorrectly predicted to be at low risk (see [article](https://www.propublica.org/article/machine-bias-risk-assessments-in-criminal-sentencing), [methodology](https://www.propublica.org/article/how-we-analyzed-the-compas-recidivism-algorithm) of analysis). \n",
    "\n",
    "The authors published the so-called [COMPAS Dataset](https://github.com/propublica/compas-analysis/).  This dataset is known in the fairness research community as the and a widely used to test the fairness of algorithms. We chose the dataset because of its extensive analysis available. The dataset contains the the criminal history, jail and prison time, demographics and COMPAS risk scores for defendants from Broward County, Florida, from 2013 and 2014. The dataset originally contains 7214. We load the dataset via the python class `load_compas_data.py` that we have also uploaded. It also carries out pre-processing for us. This reduces the dataset to 5278 samples with the following variables: \n",
    "\n",
    "- All features $X$: age `age_cat`, race`race`, sex `sex`, number of prior convictions `priors_count`, severity of charge `c_charge_degree`\n",
    "- Sensitive feature $S$: race `race` \n",
    "- Target label $y$: accused of a crime within two years `two_year_recid` (`1`, if yes, `0` otherwise)\n",
    "\n",
    "\n",
    "\n",
    "\n",
    "\n",
    "\n"
   ]
  },
  {
   "cell_type": "code",
   "execution_count": null,
   "id": "0840da44",
   "metadata": {},
   "outputs": [],
   "source": [
    "from load_compas_data import load_compas_data\n",
    "x, y, x_sens = load_compas_data()\n",
    "print(f'Number of samples {x.shape[0]}, number of features {x.shape[1]}')"
   ]
  },
  {
   "cell_type": "code",
   "execution_count": null,
   "id": "6348d87b",
   "metadata": {},
   "outputs": [],
   "source": [
    "X = np.concatenate((x,x_sens[\"race\"].reshape(-1,1)),axis=1)\n",
    "y = (y+1)/2\n",
    "\n",
    "X = torch.tensor(X, dtype=torch.float)\n",
    "y = torch.tensor(y, dtype=torch.float)\n",
    "\n",
    "train_size = int(X.size(0) * 0.8)\n",
    "random_perm = torch.randperm(X.size(0))\n",
    "train_idx, test_idx = random_perm[:train_size], random_perm[train_size:]\n",
    "\n",
    "X_train, X_test = X[train_idx], X[test_idx]\n",
    "y_train, y_test = y[train_idx], y[test_idx]"
   ]
  },
  {
   "cell_type": "markdown",
   "id": "fb106956",
   "metadata": {},
   "source": [
    "- 7.1) Take a look at the analysis of the dataset [here](https://github.com/propublica/compas-analysis/blob/master/Compas%20Analysis.ipynb). What do you take away from this analysis? "
   ]
  },
  {
   "cell_type": "markdown",
   "id": "447c9848",
   "metadata": {},
   "source": [
    "- 7.2) Follow the same steps as in (5. In-Processing): Train the plain, DP-fair, EO-fair classifier and evaluate their performance on the Compas dataset. What do you observe?"
   ]
  },
  {
   "cell_type": "code",
   "execution_count": null,
   "id": "85162096",
   "metadata": {},
   "outputs": [],
   "source": [
    "#For all three models:\n",
    "## define model\n",
    "## TODO\n",
    "\n",
    "## define loss function\n",
    "## TODO\n",
    "\n",
    "## train model\n",
    "## TODO\n",
    "\n",
    "## get prediction\n",
    "## TODO\n",
    "\n",
    "## get statistics\n",
    "## TODO\n"
   ]
  },
  {
   "cell_type": "markdown",
   "id": "690381cf",
   "metadata": {},
   "source": [
    "# 6. Further Reading\n",
    "Ethical machine learning, especially fairness in machine learning, has enjoyed increasing attention in the last years. Here is a non-exhaustive list of links for exploration, if you are interested in more information: \n",
    "- Less-technical: Orwat (2019): Risks of Discrimination through the Use of Algorithms, published by the German Federal Anti-Discrimination Agency. Available in [German](https://www.antidiskriminierungsstelle.de/SharedDocs/Downloads/DE/publikationen/Expertisen/studie_diskriminierungsrisiken_durch_verwendung_von_algorithmen.pdf?__blob=publicationFile&v=6) and [English](https://www.antidiskriminierungsstelle.de/SharedDocs/Downloads/EN/publikationen/Studie_en_Diskriminierungsrisiken_durch_Verwendung_von_Algorithmen.pdf?__blob=publicationFile&v=4).\n",
    "- Technical: Barocas et al. (2019): Fairness and Machine Learning, [here](https://fairmlbook.org/) - a comprehensive technical overview of basic fairness approaches and concepts. Contains also links to further tutorials and lecture material.\n",
    "- Advanced: Publications at ACM FAccT Conference [here](https://facctconference.org/) - recent cross-disciplinary scientific advances in the research community concerned with fairness, accountability, and transparency in socio-technical systems.\n"
   ]
  },
  {
   "cell_type": "code",
   "execution_count": null,
   "id": "94eeafc4",
   "metadata": {},
   "outputs": [],
   "source": []
  }
 ],
 "metadata": {
  "kernelspec": {
   "display_name": "Python 3",
   "language": "python",
   "name": "python3"
  },
  "language_info": {
   "codemirror_mode": {
    "name": "ipython",
    "version": 3
   },
   "file_extension": ".py",
   "mimetype": "text/x-python",
   "name": "python",
   "nbconvert_exporter": "python",
   "pygments_lexer": "ipython3",
   "version": "3.9.4"
  }
 },
 "nbformat": 4,
 "nbformat_minor": 5
}
